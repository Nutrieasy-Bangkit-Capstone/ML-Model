{
  "nbformat": 4,
  "nbformat_minor": 0,
  "metadata": {
    "colab": {
      "provenance": []
    },
    "kernelspec": {
      "name": "python3",
      "display_name": "Python 3"
    },
    "language_info": {
      "name": "python"
    }
  },
  "cells": [
    {
      "cell_type": "code",
      "source": [
        "import os, zipfile\n",
        "from sklearn.model_selection import train_test_split\n",
        "from tensorflow.keras.preprocessing.image import ImageDataGenerator\n",
        "from tensorflow.keras.applications.xception import preprocess_input\n",
        "import json\n",
        "import tensorflow as tf\n",
        "import shutil"
      ],
      "metadata": {
        "id": "66FXwblsiqdJ"
      },
      "execution_count": null,
      "outputs": []
    },
    {
      "cell_type": "code",
      "source": [
        "# donwload dataset dari kaggle\n",
        "!kaggle datasets download -d keycia/fruit-nutrionix\n",
        "!kaggle datasets download -d keycia/vegetables-nutrionix"
      ],
      "metadata": {
        "id": "ej2xg_CQRh8f"
      },
      "execution_count": null,
      "outputs": []
    },
    {
      "cell_type": "code",
      "source": [
        "# ekstrak file zip\n",
        "with zipfile.ZipFile('./fruit-nutrionix.zip') as zipref:\n",
        "  zipref.extractall('./')\n",
        "with zipfile.ZipFile('./vegetables-nutrionix.zip') as zipref:\n",
        "  zipref.extractall('./dataset')\n",
        "\n",
        "data_dir = \"./data\"\n",
        "fruit = \"./fruit_dataset\"\n",
        "vegetable = \"./dataset\""
      ],
      "metadata": {
        "id": "CZM219BHRjpJ"
      },
      "execution_count": 2,
      "outputs": []
    },
    {
      "cell_type": "code",
      "source": [
        "def split_dataset(original_dir, base_dir):\n",
        "    class_names = os.listdir(original_dir)\n",
        "\n",
        "    for class_name in class_names:\n",
        "        # Membuat subfolder untuk setiap kelas di dataset_split\n",
        "        os.makedirs(os.path.join(base_dir, 'train', class_name), exist_ok=True)\n",
        "        os.makedirs(os.path.join(base_dir, 'val', class_name), exist_ok=True)\n",
        "        os.makedirs(os.path.join(base_dir, 'test', class_name), exist_ok=True)\n",
        "\n",
        "        # Memecah dataset menjadi train (60%), val (20%), test (20%) per kelas\n",
        "        files = os.listdir(os.path.join(original_dir, class_name))\n",
        "        train_files, test_files = train_test_split(files, test_size=0.2, random_state=42)\n",
        "        train_files, val_files = train_test_split(train_files, test_size=0.25, random_state=42)  # 0.25 x 0.8 = 0.2\n",
        "\n",
        "        # Memindahkan gambar ke dalam folder yang sesuai di dataset_split\n",
        "        for file in train_files:\n",
        "            os.rename(os.path.join(original_dir, class_name, file),\n",
        "                        os.path.join(base_dir, 'train', class_name, file))\n",
        "        for file in val_files:\n",
        "            os.rename(os.path.join(original_dir, class_name, file),\n",
        "                        os.path.join(base_dir, 'val', class_name, file))\n",
        "        for file in test_files:\n",
        "            os.rename(os.path.join(original_dir, class_name, file),\n",
        "                        os.path.join(base_dir, 'test', class_name, file))"
      ],
      "metadata": {
        "id": "Qbv2VYddRnwT"
      },
      "execution_count": 3,
      "outputs": []
    },
    {
      "cell_type": "code",
      "source": [
        "# Memecah data menjadi train, test, validation\n",
        "split_dataset(fruit, data_dir)\n",
        "split_dataset(vegetable, data_dir)"
      ],
      "metadata": {
        "id": "ilYVja8KRu4U"
      },
      "execution_count": 5,
      "outputs": []
    },
    {
      "cell_type": "code",
      "source": [
        "train_data_dir = \"./data/train\"\n",
        "validation_data_dir = \"./data/val\"\n",
        "test_data_dir = \"./data/test\""
      ],
      "metadata": {
        "id": "vM0nCOEURxXB"
      },
      "execution_count": 6,
      "outputs": []
    },
    {
      "cell_type": "code",
      "source": [
        "# augmentasi gambar\n",
        "train_datagen = ImageDataGenerator(\n",
        "    preprocessing_function=preprocess_input,\n",
        "    rotation_range=30,\n",
        "    width_shift_range=0.2,\n",
        "    height_shift_range=0.2,\n",
        "    shear_range=0.2,\n",
        "    zoom_range=0.2,\n",
        "    horizontal_flip=True,\n",
        "    vertical_flip=True,\n",
        "    fill_mode='nearest'\n",
        ")\n",
        "validation_datagen = ImageDataGenerator(preprocessing_function=preprocess_input)\n",
        "test_datagen = ImageDataGenerator(preprocessing_function=preprocess_input)\n",
        "\n",
        "train_generator = train_datagen.flow_from_directory(\n",
        "        train_data_dir,\n",
        "        target_size=(300, 300),\n",
        "        batch_size=128,\n",
        "        class_mode='categorical')\n",
        "\n",
        "validation_generator = validation_datagen.flow_from_directory(\n",
        "        validation_data_dir,\n",
        "        target_size=(300, 300),\n",
        "        batch_size=32,\n",
        "        class_mode='categorical')\n",
        "\n",
        "test_generator = test_datagen.flow_from_directory(\n",
        "        test_data_dir,\n",
        "        target_size=(300, 300),\n",
        "        batch_size=32,\n",
        "        class_mode='categorical')"
      ],
      "metadata": {
        "id": "Gloqd0f_RzGy"
      },
      "execution_count": null,
      "outputs": []
    },
    {
      "cell_type": "code",
      "source": [
        "# inisialisasi banyak class\n",
        "num_class = len(train_generator.class_indices.keys())\n",
        "print(\"num_class: \", num_class)\n",
        "train_generator.class_indices.keys()"
      ],
      "metadata": {
        "id": "nwJvArARR18q"
      },
      "execution_count": null,
      "outputs": []
    },
    {
      "cell_type": "code",
      "source": [
        "# menyimpan label dalam bentuk json\n",
        "with open('metadata.json', 'w') as fp:\n",
        "    json.dump(list(train_generator.class_indices.keys()), fp)"
      ],
      "metadata": {
        "id": "MmNstLRnR4sl"
      },
      "execution_count": 9,
      "outputs": []
    },
    {
      "cell_type": "code",
      "source": [
        "base_model_xception = tf.keras.applications.Xception(weights=\"imagenet\", include_top=False, input_shape=(300, 300, 3))\n",
        "\n",
        "for layer in base_model_xception.layers:\n",
        "    layer.trainable = False\n",
        "\n",
        "sequential_model = tf.keras.models.Sequential([\n",
        "    base_model_xception,\n",
        "    tf.keras.layers.Flatten(),\n",
        "    tf.keras.layers.Dense(1024, activation=\"relu\"),\n",
        "    tf.keras.layers.Dense(num_class, activation=\"softmax\")\n",
        "])\n",
        "\n",
        "sequential_model.summary()"
      ],
      "metadata": {
        "id": "snzrxgnWR61a"
      },
      "execution_count": null,
      "outputs": []
    },
    {
      "cell_type": "code",
      "source": [
        "sequential_model.compile(loss='categorical_crossentropy',\n",
        "              optimizer='adam',\n",
        "              metrics=['accuracy'])"
      ],
      "metadata": {
        "id": "1bn-7KVfSPmj"
      },
      "execution_count": 11,
      "outputs": []
    },
    {
      "cell_type": "code",
      "source": [
        "history = sequential_model.fit(\n",
        "      train_generator,\n",
        "      epochs=10,\n",
        "      verbose=1,\n",
        "      validation_data = validation_generator,\n",
        ")"
      ],
      "metadata": {
        "id": "pTkD2A3lSRGI"
      },
      "execution_count": null,
      "outputs": []
    },
    {
      "cell_type": "code",
      "source": [
        "sequential_model.evaluate(test_generator)"
      ],
      "metadata": {
        "id": "bPcfqtXWSYyb"
      },
      "execution_count": null,
      "outputs": []
    },
    {
      "cell_type": "code",
      "source": [
        "sequential_model.save(\"./fruit_and_vegetable_clasification_colab.h5\")"
      ],
      "metadata": {
        "id": "ZzZ19jq6ST7B"
      },
      "execution_count": null,
      "outputs": []
    },
    {
      "cell_type": "code",
      "source": [
        "# menyimpan hasil model ke drive\n",
        "shutil.copy2(\"/content/fruit_and_vegetable_clasification_colab.h5\", \"/content/drive/MyDrive/fruit_and_vegetable_clasification_colab.h5\")"
      ],
      "metadata": {
        "id": "qsavVoTC7U_D"
      },
      "execution_count": null,
      "outputs": []
    }
  ]
}